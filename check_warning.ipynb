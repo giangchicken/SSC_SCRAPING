{
 "cells": [
  {
   "cell_type": "code",
   "execution_count": null,
   "metadata": {},
   "outputs": [],
   "source": []
  },
  {
   "cell_type": "markdown",
   "metadata": {},
   "source": [
    "## Extract erroneous scraped symbols\n",
    "We use this code to extract symbols that encountered errors during the scraping process. Subsequently, we will re-scrape these symbols"
   ]
  },
  {
   "cell_type": "code",
   "execution_count": 10,
   "metadata": {},
   "outputs": [],
   "source": [
    "import re\n",
    "import os\n",
    "import pandas as pd\n",
    "\n",
    "def extract_symbols(log_folder_path):\n",
    "    warning_symbols = set()\n",
    "    info_symbols = set()\n",
    "\n",
    "    # Regex patterns to identify WARNING and INFO logs\n",
    "    warning_pattern = re.compile(r\"WARNING - Not enough reports (\\w+):\")\n",
    "    info_pattern = re.compile(r\"INFO - Scraping Successfully (\\w+):\")\n",
    "\n",
    "    # Loop through each log file in the folder\n",
    "    for filename in os.listdir(log_folder_path):\n",
    "        if filename.endswith(\".log\"):\n",
    "            with open(os.path.join(log_folder_path, filename), 'r') as file:\n",
    "                for line in file:\n",
    "                    # Match WARNING logs\n",
    "                    warning_match = warning_pattern.search(line)\n",
    "                    if warning_match:\n",
    "                        symbol = warning_match.group(1)\n",
    "                        warning_symbols.add(symbol)\n",
    "\n",
    "                    # Match INFO logs\n",
    "                    info_match = info_pattern.search(line)\n",
    "                    if info_match:\n",
    "                        symbol = info_match.group(1)\n",
    "                        info_symbols.add(symbol)\n",
    "\n",
    "    # Exclude symbols that appear in INFO logs from WARNING symbols\n",
    "    final_warning_symbols = warning_symbols - info_symbols\n",
    "\n",
    "    # Create a DataFrame to display the results\n",
    "    warning_df = pd.DataFrame(final_warning_symbols, columns=[\"symbol\"])\n",
    "    print(\"Symbols with warnings (excluding those in INFO logs):\")\n",
    "    print(warning_df)\n",
    "\n",
    "    return warning_df\n",
    "\n"
   ]
  },
  {
   "cell_type": "code",
   "execution_count": 11,
   "metadata": {},
   "outputs": [
    {
     "name": "stdout",
     "output_type": "stream",
     "text": [
      "Symbols with warnings (excluding those in INFO logs):\n",
      "  symbol\n",
      "0    SAB\n",
      "1    NVL\n",
      "2    CTG\n"
     ]
    }
   ],
   "source": [
    "# Example usage\n",
    "log_folder_path = \"./logging\"  # Replace with your log folder path\n",
    "warnings_df = extract_symbols(log_folder_path)"
   ]
  },
  {
   "cell_type": "code",
   "execution_count": null,
   "metadata": {},
   "outputs": [],
   "source": [
    "# warnings_df.to_csv(\"error_symbols.csv\")"
   ]
  },
  {
   "cell_type": "code",
   "execution_count": 17,
   "metadata": {},
   "outputs": [],
   "source": [
    "import json\n",
    "for symbol in list(warnings_df[\"symbol\"]):\n",
    "    checkpoint_path = f\"./checkpoints/checkpoint_{symbol}.json\"\n",
    "    checkpoint = {\"current_page\": 1, \"last_row_index\": 0}\n",
    "\n",
    "    # Save the updated checkpoints back to the file\n",
    "    with open(checkpoint_path, 'w') as f:\n",
    "        json.dump(checkpoint, f)"
   ]
  },
  {
   "cell_type": "code",
   "execution_count": 21,
   "metadata": {},
   "outputs": [
    {
     "data": {
      "text/plain": [
       "151"
      ]
     },
     "execution_count": 21,
     "metadata": {},
     "output_type": "execute_result"
    }
   ],
   "source": [
    "len(\"CBTT BCTC riêng lẻ Quý IV/2023; giải trình biến động lợi nhuận Quý IV/2023 và điều chỉnh hồi tố số liệu BCTC kiểm toán năm 2022 theo Kiểm toán Nhà nước\")"
   ]
  }
 ],
 "metadata": {
  "kernelspec": {
   "display_name": ".venv",
   "language": "python",
   "name": ".venv"
  },
  "language_info": {
   "codemirror_mode": {
    "name": "ipython",
    "version": 3
   },
   "file_extension": ".py",
   "mimetype": "text/x-python",
   "name": "python",
   "nbconvert_exporter": "python",
   "pygments_lexer": "ipython3",
   "version": "3.10.11"
  }
 },
 "nbformat": 4,
 "nbformat_minor": 2
}
